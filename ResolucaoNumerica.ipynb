{
 "cells": [
  {
   "cell_type": "code",
   "execution_count": 1,
   "metadata": {
    "scrolled": true
   },
   "outputs": [],
   "source": [
    "import numpy as np\n",
    "import matplotlib.pyplot as plt"
   ]
  },
  {
   "cell_type": "code",
   "execution_count": 2,
   "metadata": {
    "scrolled": true
   },
   "outputs": [],
   "source": [
    "def problemPart1(alfa1,alfa2,beta1,beta2,b1,b2,c1,c2,n10,n20,lamb1Guess,lamb2Guess,umax,N,T):\n",
    "    delta = 0.001\n",
    "    t = np.linspace(0,T,N+1)\n",
    "    h = T/N\n",
    "    h2 = h/2\n",
    "    u = np.zeros(N+1)\n",
    "    n1 = np.zeros(N+1)\n",
    "    n2 = np.zeros(N+1)\n",
    "    n1[0] = n10\n",
    "    n2[0] = n20\n",
    "    lamb1 = np.zeros(N+1)\n",
    "    lamb2 = np.zeros(N+1)\n",
    "    lamb1[-1] = lamb1Guess\n",
    "    lamb2[-1] = lamb2Guess\n",
    "    test = -1\n",
    "    while(test < 0):\n",
    "        oldu = u.copy()\n",
    "        oldn1 = n1.copy()\n",
    "        oldn2 = n2.copy()\n",
    "        oldlamb1 = lamb1.copy()\n",
    "        oldlamb2 = lamb2.copy()\n",
    "        #Integrando numericamente a equação de estado para obter N1 e N2 (usando Runge-Kutta)\n",
    "        for i in range(0,N):\n",
    "            #Atualizando N1 : (alfa1-beta1*N2)*N1 - b1*u*N1\n",
    "            #Atualizando N2 : (beta2*n1-alfa2)*N2 - b2*u*N2\n",
    "            \n",
    "            k11 = (alfa1 - beta1*n2[i])*n1[i] - b1*u[i]*n1[i]\n",
    "            k12 = (beta2*n1[i] - alfa2)*n2[i] - b2*u[i]*n2[i]\n",
    "            \n",
    "            k21 = (alfa1 - beta1*(n2[i] + h2*k12))*(n1[i] + h2*k11) - b1*0.5*(u[i] + u[i+1])*(n1[i] + h2*k11)\n",
    "            k22 = (beta2*(n1[i] + h2*k11) - alfa2)*(n2[i] + h2*k12) - b2*0.5*(u[i] + u[i+1])*(n2[i] + h2*k12)\n",
    "            \n",
    "            k31 = (alfa1 - beta1*(n2[i] + h2*k22))*(n1[i] + h2*k21) - b1*0.5*(u[i] + u[i+1])*(n1[i] + h2*k21)\n",
    "            k32 = (beta2*(n1[i] + h2*k21) - alfa2)*(n2[i] + h2*k22) - b2*0.5*(u[i] + u[i+1])*(n2[i] + h2*k22)\n",
    "            \n",
    "            k41 = (alfa1 - beta1*(n2[i] + h*k32))*(n1[i] + h*k31) - b1*u[i+1]*(n1[i] + h*k31)\n",
    "            k42 = (beta2*(n1[i] + h*k31) - alfa2)*(n2[i] + h*k32) - b2*u[i+1]*(n2[i] + h*k32)\n",
    "            \n",
    "            n1[i+1] = n1[i] + (h/6)*(k11 + 2*k21 + 2*k31 + k41)\n",
    "            n2[i+1] = n2[i] + (h/6)*(k12 + 2*k22 + 2*k32 + k42)            \n",
    "        #----\n",
    "        \n",
    "        #Integrando numericamente AO CONTRÁRIO a equação de estado adjunto para obter λ1 e λ2 (usando Runge-Kutta)\n",
    "        for i in range(N,0,-1):\n",
    "            #Atualizando lamb1 : c1 + (beta1*N2-alfa1)*lamb1+b1*u*lamb1-beta2*N2*lamb2\n",
    "            #Atualizando lamb2 : beta1*n1*lamb1 + (alfa2-beta2*N1)*lamb2 + b2*u*lamb2\n",
    "            \n",
    "            k11 = c1 + (beta1*n2[i] - alfa1)*lamb1[i] + b1*u[i]*lamb1[i] - beta2*n2[i]*lamb2[i]\n",
    "            k12 = beta1*n1[i]*lamb1[i] + (alfa2 - beta2*n1[i])*lamb2[i] + b2*u[i]*lamb2[i]\n",
    "            \n",
    "            k21 = c1 + (beta1*0.5*(n2[i] + n2[i-1]) - alfa1)*(lamb1[i] - h2*k11) + b1*0.5*(u[i] + u[i-1])*(lamb1[i] - h2*k11) - beta2*0.5*(n2[i] + n2[i-1])*(lamb2[i] - h2*k12)\n",
    "            k22 = beta1*0.5*(n1[i] + n1[i-1])*(lamb1[i] - h2*k11) + (alfa2 - beta2*0.5*(n1[i] + n1[i-1]))*(lamb2[i] - h2*k12) + b2*0.5*(u[i] + u[i-1])*(lamb2[i] - h2*k12)\n",
    "            \n",
    "            k31 = c1 + (beta1*0.5*(n2[i] + n2[i-1]) - alfa1)*(lamb1[i] - h2*k21) + b1*0.5*(u[i] + u[i-1])*(lamb1[i] - h2*k21) - beta2*0.5*(n2[i] + n2[i-1])*(lamb2[i] - h2*k22)\n",
    "            k32 = beta1*0.5*(n1[i] + n1[i-1])*(lamb1[i] - h2*k21) + (alfa2 - beta2*0.5*(n1[i] + n1[i-1]))*(lamb2[i] - h2*k22) + b2*0.5*(u[i] + u[i-1])*(lamb2[i] - h2*k22)\n",
    "            \n",
    "            k41 = c1 + (beta1*n2[i-1] - alfa1)*(lamb1[i] - h*k31) + b1*u[i-1]*(lamb1[i] - h*k31) - beta2*n2[i-1]*(lamb2[i] - h*k32)\n",
    "            k42 = beta1*n1[i-1]*(lamb1[i] - h*k31) + (alfa2 - beta2*n1[i-1])*(lamb2[i] - h*k32) + b2*u[i-1]*(lamb2[i] - h*k32)\n",
    "            \n",
    "            lamb1[i-1] = lamb1[i] - (h/6)*(k11 + 2*k21 + 2*k31 + k41)\n",
    "            lamb2[i-1] = lamb2[i] - (h/6)*(k12 + 2*k22 + 2*k32 + k42)\n",
    "        #----\n",
    "        \n",
    "        #Atualizando o controle ótimo\n",
    "        u1 = np.zeros(N+1)\n",
    "        for i in range(0,N+1):\n",
    "            u1[i] = max(0,min(umax,(b1*n1[i]*lamb1[i]+b2*n2[i]*lamb2[i])/(-2*c2)))\n",
    "        u = 0.5*(u1 + oldu)\n",
    "        \n",
    "        #Verificando convergência\n",
    "        temp1 = delta*sum(abs(u)) - sum (abs(oldu - u))\n",
    "        temp2 = delta*sum(abs(n1)) - sum (abs(oldn1 - n1))\n",
    "        temp3 = delta*sum(abs(n2)) - sum (abs(oldn2 - n2))\n",
    "        temp4 = delta*sum(abs(lamb1)) -sum (abs(oldlamb1 - lamb1))\n",
    "        temp5 = delta*sum(abs(lamb2)) -sum (abs(oldlamb2 - lamb2))\n",
    "        test = min(temp1,temp2,temp3,temp4,temp5)\n",
    "    return t,n1,n2,lamb1,lamb2,u"
   ]
  },
  {
   "cell_type": "code",
   "execution_count": 3,
   "metadata": {
    "scrolled": true
   },
   "outputs": [],
   "source": [
    "def problemPart2(alfa1,alfa2,beta1,beta2,b1,b2,c1,c2,n10,n20,lamb1Guess,umax,N,T,a,b):\n",
    "    flag = -1\n",
    "    #Obtendo o último valor de n2 para cada chute de lambda 2 no tempo T\n",
    "    t,n1,n2,lamb1,lamb2,u = problemPart1(alfa1,alfa2,beta1,beta2,b1,b2,c1,c2,n10,n20,lamb1Guess,a,umax,N,T)\n",
    "    Va = n2[-1] - alfa1/beta1\n",
    "    t,n1,n2,lamb1,lamb2,u = problemPart1(alfa1,alfa2,beta1,beta2,b1,b2,c1,c2,n10,n20,lamb1Guess,b,umax,N,T)\n",
    "    Vb = n2[-1] - alfa1/beta1\n",
    "    \n",
    "    #Utilizando Método da Secante para atualizar o valor do chute\n",
    "    while(flag<0):\n",
    "        if(abs(Va)>abs(Vb)):\n",
    "            a,b = b,a\n",
    "            Va,Vb = Vb,Va\n",
    "        d = Va*(b - a)/(Vb - Va)\n",
    "        b = a\n",
    "        Vb = Va\n",
    "        a = a - d\n",
    "        t,n1,n2,lamb1,lamb2,u = problemPart1(alfa1,alfa2,beta1,beta2,b1,b2,c1,c2,n10,n20,lamb1Guess,a,umax,N,T)\n",
    "        Va = n2[-1] - alfa1/beta1\n",
    "        if(abs(Va) <0.01):\n",
    "            flag = 1\n",
    "    print(\"Lamb1[T]:\"+str(lamb1[-1]),\"Lamb2[T]:\"+str(lamb2[-1]),\"FinalDistance:\"+str((n1[-1]-alfa2/beta2)**2 + (n2[-1]-alfa1/beta1)**2))\n",
    "    return t,n1,n2,lamb1,lamb2,u,a,b"
   ]
  },
  {
   "cell_type": "code",
   "execution_count": 4,
   "metadata": {
    "scrolled": true
   },
   "outputs": [],
   "source": [
    "def problemPart3(alfa1,alfa2,beta1,beta2,b1,b2,c1,c2,n10,n20,umax,N,T,a,b,c,d):\n",
    "    flag = -1\n",
    "    #Obtendo o último valor de n2 para cada chute de lambda 2 no tempo T\n",
    "    t,n1,n2,lamb1,lamb2,u,_,_ = problemPart2(alfa1,alfa2,beta1,beta2,b1,b2,c1,c2,n10,n20,a,umax,N,T,c,d)\n",
    "    Va = n1[-1] - alfa2/beta2\n",
    "    t,n1,n2,lamb1,lamb2,u,c,d = problemPart2(alfa1,alfa2,beta1,beta2,b1,b2,c1,c2,n10,n20,b,umax,N,T,c,d)\n",
    "    Vb = n1[-1] - alfa2/beta2\n",
    "    \n",
    "    #Utilizando Método da Secante para atualizar o valor do chute\n",
    "    while(flag<0):\n",
    "        if(abs(Va)>abs(Vb)):\n",
    "            a,b = b,a\n",
    "            Va,Vb = Vb,Va\n",
    "        d = Va*(b - a)/(Vb - Va)\n",
    "        b = a\n",
    "        Vb = Va\n",
    "        a = a - d\n",
    "        t,n1,n2,lamb1,lamb2,u,c,d = problemPart2(alfa1,alfa2,beta1,beta2,b1,b2,c1,c2,n10,n20,a,umax,N,T,c,d)\n",
    "        Va = n1[-1] - alfa2/beta2\n",
    "        if(abs(Va) <0.01):\n",
    "            flag = 1\n",
    "    return t,n1,n2,lamb1,lamb2,u"
   ]
  },
  {
   "cell_type": "code",
   "execution_count": null,
   "metadata": {
    "scrolled": true
   },
   "outputs": [],
   "source": [
    "alfa1 = 1\n",
    "alfa2 = 1\n",
    "beta1 = 1\n",
    "beta2 = 1\n",
    "b1 = 1\n",
    "b2 = 1\n",
    "c1 = 1\n",
    "c2 = 1\n",
    "\n",
    "#Chute para os valores iniciais do método da secante\n",
    "#Lambda 1\n",
    "a = 3\n",
    "b = 2\n",
    "#Lambda 2\n",
    "c = 2 \n",
    "d = 3\n",
    "\n",
    "n10 = 1.5\n",
    "n20 = 0.5\n",
    "umax = 1\n",
    "T = 1.75\n",
    "N = int(1000*T)\n",
    "t,n1,n2,lamb1,lamb2,u = problemPart3(alfa1,alfa2,beta1,beta2,b1,b2,c1,c2,n10,n20,umax,N,T,a,b,c,d)"
   ]
  },
  {
   "cell_type": "code",
   "execution_count": 5,
   "metadata": {},
   "outputs": [],
   "source": [
    "#Única simulação com os valores encontrados de lambda\n",
    "alfa1 = 1\n",
    "alfa2 = 1\n",
    "beta1 = 1\n",
    "beta2 = 1\n",
    "b1 = 1\n",
    "b2 = 1\n",
    "c1 = 1\n",
    "c2 = 1\n",
    "lamb1Guess = -4085.6445928514004\n",
    "lamb2Guess = 579.0599966581425\n",
    "n10 = 1.5\n",
    "n20 = 0.5\n",
    "umax = 1\n",
    "T = 1.75\n",
    "N = int(1000*T)\n",
    "t,n1,n2,lamb1,lamb2,u = problemPart1(alfa1,alfa2,beta1,beta2,b1,b2,c1,c2,n10,n20,lamb1Guess,lamb2Guess,umax,N,T)\n",
    "\n",
    "#Combinações encontradas após os testes acima:\n",
    "#T = 1.5 -> lamb1Guess = -1519.9234879828512 & lamb2Guess = 517.3557357636174 & dist = 0.04362470719501854\n",
    "#T = 1.55 -> lamb1Guess = -224.43791851757942 & lamb2Guess = 64.87551291777409 & dist = 0.025951188829816937\n",
    "#T = 1.60 -> lamb1Guess = -1238.3525783570296 & lamb2Guess = 305.2653793195668 & dist = 0.013262305141480298\n",
    "#T = 1.65 -> lamb1Guess = -119.40412690214318 & lamb2Guess = 24.135307853856183 & dist = 0.004864473961952369\n",
    "#T = 1.7 -> lamb1Guess = -21.600681758824784 & lamb2Guess = 3.3608565769428287 & dist = 0.0007600374398390149\n",
    "#T = 1.75 -> lamb1Guess = -4085.6445928514004 & lamb2Guess = 579.0599966581425 & dist = 0.0002344218521736234\n",
    "#T = 1.8 -> lamb1Guess = -809.2826411619039 & lamb2Guess = 93.89796175711405 & dist = 0.003185163391406434"
   ]
  },
  {
   "cell_type": "code",
   "execution_count": 6,
   "metadata": {
    "scrolled": true
   },
   "outputs": [
    {
     "name": "stdout",
     "output_type": "stream",
     "text": [
      "0.0002344218521736234\n"
     ]
    },
    {
     "data": {
      "image/png": "[encoded data removed]",
      "text/plain": [
       "<Figure size 432x288 with 3 Axes>"
      ]
     },
     "metadata": {
      "needs_background": "light"
     },
     "output_type": "display_data"
    }
   ],
   "source": [
    "#Gráfico dos valores de N1, N2, lambda1, lambda2 e controle ao longo do tempo\n",
    "fig = plt.figure()\n",
    "plt.subplot(3,1,1)\n",
    "plt.plot(t,n1)\n",
    "plt.plot(t,n2)\n",
    "if (alfa2/beta2)==(alfa1/beta1):\n",
    "    plt.plot(t,(alfa2/beta2)*np.ones(N+1))\n",
    "else:\n",
    "    plt.plot(t,(alfa2/beta2)*np.ones(N+1))\n",
    "    plt.plot(t,(alfa1/beta1)*np.ones(N+1))\n",
    "if (alfa2/beta2)==(alfa1/beta1):\n",
    "    plt.legend([\"N1\",\"N2\",\"Obj\"],bbox_to_anchor=(1, 1.05))\n",
    "else:\n",
    "    plt.legend([\"N1\",\"N2\",\"Obj1\",\"Obj2\"],bbox_to_anchor=(1, 1.05))\n",
    "plt.ylim((0, np.ceil(max(max(n1),max(n2)))+0.5))\n",
    "plt.title(\"States N1 & N2\")\n",
    "plt.subplot(3,1,2)\n",
    "plt.plot(t,lamb1)\n",
    "plt.plot(t,lamb2)\n",
    "plt.legend([\"Lambda1\",\"Lambda2\"],bbox_to_anchor=(1, 1.05))\n",
    "plt.title(\"Lambda 1 & Lambda 2\")\n",
    "plt.subplot(3,1,3)\n",
    "plt.plot(t,u)\n",
    "plt.title(\"Control\")\n",
    "plt.subplots_adjust(hspace=1)\n",
    "\n",
    "fig.savefig(\"figure1.pdf\", bbox_inches='tight')\n",
    "\n",
    "finalDistance = (n1[-1]-alfa2/beta2)**2 + (n2[-1]-alfa1/beta1)**2\n",
    "print(finalDistance)"
   ]
  },
  {
   "cell_type": "code",
   "execution_count": 7,
   "metadata": {
    "scrolled": true
   },
   "outputs": [
    {
     "data": {
      "image/png": "[encoded data removed]",
      "text/plain": [
       "<Figure size 432x288 with 1 Axes>"
      ]
     },
     "metadata": {
      "needs_background": "light"
     },
     "output_type": "display_data"
    }
   ],
   "source": [
    "#Gráfico da população ao longo do tempo\n",
    "fig = plt.figure()\n",
    "plt.plot(n1,n2)\n",
    "plt.scatter(beta2/alfa2,beta1/alfa1)\n",
    "plt.xlabel(\"N1\")\n",
    "plt.ylabel(\"N2\")\n",
    "plt.xlim((0, np.ceil(max(n1))+0.5))\n",
    "plt.ylim((0, np.ceil(max(n2))+0.5))\n",
    "\n",
    "fig.savefig(\"figure2.pdf\", bbox_inches='tight')"
   ]
  }
 ],
 "metadata": {
  "kernelspec": {
   "display_name": "Python 3",
   "language": "python",
   "name": "python3"
  },
  "language_info": {
   "codemirror_mode": {
    "name": "ipython",
    "version": 3
   },
   "file_extension": ".py",
   "mimetype": "text/x-python",
   "name": "python",
   "nbconvert_exporter": "python",
   "pygments_lexer": "ipython3",
   "version": "3.7.3"
  }
 },
 "nbformat": 4,
 "nbformat_minor": 2
}
